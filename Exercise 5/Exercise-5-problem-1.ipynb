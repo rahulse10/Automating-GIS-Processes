{
  "cells": [
    {
      "cell_type": "markdown",
      "metadata": {
        "deletable": false,
        "editable": false
      },
      "source": [
        "## Problem 1: Visualise data in a static map (10 points)\n",
        "\n",
        "\n",
        "Create a *static* **thematic map** using the skills you learnt during lesson 5. The map should <br>\n",
        "contain more than one layer (from at least two different data sets). Pay attention to classification <br>\n",
        "and visualisation (appropriate colour scheme choice, etc.). Write your code in this notebook, and <br>\n",
        "store the resulting maps in `.png` format in the `NOTEBOOK_DIRECTORY / \"docs\"` folder."
      ]
    },
    {
      "cell_type": "markdown",
      "metadata": {
        "deletable": false,
        "editable": false
      },
      "source": [
        "### Topic of the map\n",
        "\n",
        "- Use any of the data sets we have used during the course (travel time data, population grid), or <br>\n",
        "  any other data set of your interest (for example, [open data sets from Statistics Finland](https://www.stat.fi/org/avoindata/index_en.html), <br>\n",
        "  or the open geo-data from [the Helsinki Region Infoshare](https://hri.fi/en)). If you download <br>\n",
        "  data sets, add, commit, and push them to the `DATA_DIRECTORY`. Be sure to include an attribution <br>\n",
        "  to each data set in your output map!\n",
        "- Feel free to start from and adapt examples from the course material! You can take one step further <br>\n",
        "  and add additional analysis to, e.g., the shopping centre dominance or the population within vincinity <br>\n",
        "  of certain addresses)"
      ]
    },
    {
      "cell_type": "markdown",
      "metadata": {
        "deletable": false,
        "editable": false
      },
      "source": [
        "### Criteria\n",
        "\n",
        "- The map has more than one data layer (for instance, the results of an analysis, and the road network <br>\n",
        "  to illustrate a complex spatial pattern). If (and only if) you think it adds additional value, feel <br>\n",
        "  free to add a base map (but a base map does not count as an own layer)\n",
        "- The map portrays the output of an analysis or a classification that adds value beyond just displaying <br>\n",
        "  the raw data\n",
        "- The map follows good cartographic practices (appropriate map extent and zoom level, colour scheme, <br>\n",
        "  legend and data sources, etc.)"
      ]
    },
    {
      "cell_type": "markdown",
      "metadata": {
        "deletable": false,
        "editable": false
      },
      "source": [
        "### Output\n",
        "\n",
        "- Save the map(s) in `.png` format in the `NOTEBOOK_DIRECTORY / \"docs\"` folder, remember to add, commit, <br>\n",
        "  and push them to the GitHub repository\n",
        "- Remember to also add, commit, and push input data sets and code\n",
        "\n",
        "---"
      ]
    },
    {
      "cell_type": "code",
      "execution_count": 1,
      "metadata": {
        "deletable": false,
        "editable": false
      },
      "outputs": [],
      "source": [
        "import pathlib \n",
        "NOTEBOOK_PATH = pathlib.Path().resolve()\n",
        "DATA_DIRECTORY = NOTEBOOK_PATH / \"data\"\n",
        "OUTPUT_DIRECTORY = NOTEBOOK_PATH / \"docs\""
      ]
    },
    {
      "cell_type": "code",
      "execution_count": 2,
      "metadata": {
        "deletable": false,
        "editable": false
      },
      "outputs": [],
      "source": [
        "# ADD YOUR OWN CODE HERE"
      ]
    }
  ],
  "metadata": {
    "anaconda-cloud": {},
    "kernelspec": {
      "display_name": "Python 3 (ipykernel)",
      "language": "python",
      "name": "python3"
    },
    "language_info": {
      "codemirror_mode": {
        "name": "ipython",
        "version": 3
      },
      "file_extension": ".py",
      "mimetype": "text/x-python",
      "name": "python",
      "nbconvert_exporter": "python",
      "pygments_lexer": "ipython3",
      "version": "3.10.8"
    }
  },
  "nbformat": 4,
  "nbformat_minor": 4
}