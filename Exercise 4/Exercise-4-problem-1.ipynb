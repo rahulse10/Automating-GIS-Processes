{
 "cells": [
  {
   "cell_type": "markdown",
   "metadata": {
    "deletable": false,
    "editable": false
   },
   "source": [
    "## Problem 1: Join accessibility datasets into a grid and visualise the data on a map (10 points)\n",
    "\n",
    "![P1 example result](images/travel_times_example_720x720px.png)\n",
    "\n",
    "*Sample result: Travel times by public transport (PT) and car to Itis and Myyrmanni*\n",
    "\n",
    "Your task in *problem 1* is to combine data from non-spatial data sets (travel times between places)\n",
    "and a spatial data set (grid cells that represent the places), and plot the combined data set to\n",
    "visualise the travel times to two shopping centres from every other place in the Helsinki metropolitan\n",
    "area. "
   ]
  },
  {
   "cell_type": "markdown",
   "metadata": {
    "deletable": false,
    "editable": false
   },
   "source": [
    "In particular, this task comprises of three major steps:\n",
    "\n",
    "1. Read the grid cell data set\n",
    "2. Read a travel time data set,\n",
    "    - discard unnecessary columns,\n",
    "    - rename the relevant columns to include a reference to the respective shopping centre,\n",
    "    - join the relevant columns to the grid data set\n",
    "3. Classify the travel times for both travel modes (public transport and private car) into five-minute intervals \n",
    "\n",
    "Repeat the second step for each of the two shopping centres (Itis, Myyrmanni)."
   ]
  },
  {
   "cell_type": "markdown",
   "metadata": {
    "deletable": false,
    "editable": false,
    "tags": []
   },
   "source": [
    "\n",
    "---\n",
    "\n",
    "### a) Read the grid cell data set\n",
    "\n",
    "The grid cells are derived from the ‘YKR’ data set, that is [published by the Finnish Environmental Institute\n",
    "(SYKE)](https://www.ymparisto.fi/fi-fi/elinymparisto_ja_kaavoitus/yhdyskuntarakenne/tietoa_yhdyskuntarakenteesta/yhdyskuntarakenteen_seurannan_aineistot)\n",
    "and collects a variety of indicators relating to the social and built-up structure of the country. In\n",
    "an effort to harmonise different data products of other institutions, the YKR grid cell data set has\n",
    "become a reference for many data products, including, for instance, the [travel time data set produced\n",
    "at the Digital Geography Lab](https://blogs.helsinki.fi/accessibility/helsinki-region-travel-time-matrix/).\n",
    "\n",
    "You can find the YKR data set in the directory `data` in *GeoPackage* format: `YKR_grid_EPSG3067.gpkg`.\n",
    "It contains a polygon geometry column, and an (integer) identifier: `YKR_ID`.\n",
    "\n",
    "Load the data into a `geopandas.GeoDataFrame` and call it `grid`."
   ]
  },
  {
   "cell_type": "code",
   "execution_count": null,
   "metadata": {
    "deletable": false,
    "editable": false
   },
   "outputs": [],
   "source": [
    "import pathlib \n",
    "NOTEBOOK_PATH = pathlib.Path().resolve()\n",
    "DATA_DIRECTORY = NOTEBOOK_PATH / \"data\""
   ]
  },
  {
   "cell_type": "code",
   "execution_count": 2,
   "metadata": {},
   "outputs": [],
   "source": [
    "# ADD YOUR OWN CODE HERE\n",
    "import geopandas as gpd\n",
    "grid = gpd.read_file(r'C:\\Users\\IP500\\Documents\\GitHub\\Automating-GIS-Processes\\Exercise 4\\data\\YKR_grid_EPSG3067.gpkg')"
   ]
  },
  {
   "cell_type": "markdown",
   "metadata": {
    "deletable": false,
    "editable": false,
    "tags": []
   },
   "source": [
    "\n",
    "---\n",
    "\n",
    "### b) Read the travel time data sets and join them to the grid cells\n",
    "\n",
    "Inside the `data` directory, you will find a set of semicolon-separated text files with travel times \n",
    "to each of a set of shopping centres in the Helsinki region (*this exercise was conceived before\n",
    "REDI and Tripla started operation*).\n",
    "\n",
    "The individual files have file names following the schema `travel_times_to_[XXXXX]_[Shopping_Centre]`, where\n",
    "`[Shopping_Centre]` is the name of one of the seven shopping centres included in the data set, and `[XXXXX]`,\n",
    "coincidently, referring to the YKR grid cell in which the shopping centre is located (although you should not\n",
    "need to use this ID in this exercise).\n",
    "\n",
    "The data sets contain computed travel times between different places in the metropolitan area. In order to \n",
    "produce such a *travel time matrix*, all connections from all origins to all destinations are calculated,\n",
    "and then recorded in a table. \n",
    "\n",
    "#### Columns\n",
    "\n",
    "The data sets we use have many **columns**, but only a few are interesting for this task:\n",
    "\n",
    "- `from_id`: the `YKR_ID` of the *origin* grid cell\n",
    "- `to_id`: refers to the `YKR_ID` of the *destination* grid cell (here: the one containing the shopping centre).\n",
    "- `pt_r_t`: how long does it take to travel from `from_id` to `to_id`, in minutes, using public transport?\n",
    "- `car_r_t`: how long does it take to drive a car from `from_id` to `to_id`, in minutes?\n",
    "\n",
    "Note that `from_id` and `to_id` relate to the YKR `grid` data set’s `YKR_ID` column. Each input data set has only\n",
    "one unique `to_id`, as the data has been split up to relate to one destination (a shopping centre), only, but many\n",
    "unique values for `from_id`, as it covers the travel times from anywhere in the metropolitan area.\n",
    "\n",
    "#### No-data values\n",
    "\n",
    "The travel time data set contains some origin-destination pairs (*O/D-pairs*) for which it could not find a\n",
    "public transport connection, or which are not accessible by car. Such **no-data values** are saves as \n",
    "`-1` minutes travel time. Use the [`pandas.Series.replace()`](https://pandas.pydata.org/docs/reference/api/pandas.Series.replace.html)\n",
    "method to replace `-1` with `numpy.nan` to indicate that these cells do not contain valid data.\n",
    "\n",
    "\n",
    "**IMPORTANT**: While we are having this course, a bug (https://github.com/pandas-dev/pandas/issues/45725)\n",
    "prevents `pandas.Series.replace()` from working as expected: the line `travel_times[\"car_r_t\"] = travel_times[\"car_r_t\"].replace(-1, numpy.nan)`\n",
    "fails with a `RecursionError`. There is a workaround: using an alternative syntax, using a `dict` of *before*\n",
    "and *after* values, similar to how `pandas.DataFrame.rename()` works, does not trigger the issue. \n",
    "`travel_times[\"car_r_t\"] = travel_times[\"car_r_t\"].replace({-1: numpy.nan})` works.\n",
    "\n",
    "---\n",
    "\n",
    "Read the data sets for the shopping centres ‘Itis’ and ‘Myyrmanni’, discard irrelevant columns, rename the\n",
    "`pt_r_t` and `car_r_t` columns to include a reference to the shopping centre (e.g., into `pt_r_t_Itis`), and join\n",
    "the renamed columns to the `grid` data frame. Don’t forget to replace no-data values (`-1`) with `None`."
   ]
  },
  {
   "cell_type": "code",
   "execution_count": 11,
   "metadata": {},
   "outputs": [],
   "source": [
    "# ADD YOUR OWN CODE HERE\n",
    "import pandas as pd\n",
    "Itis = pd.read_csv(r'C:\\Users\\IP500\\Documents\\GitHub\\Automating-GIS-Processes\\Exercise 4\\data\\travel_times_to_5944003_Itis.txt', sep = ';')\n",
    "Myyrmanni = pd.read_csv(r'C:\\Users\\IP500\\Documents\\GitHub\\Automating-GIS-Processes\\Exercise 4\\data\\travel_times_to_5902043_Myyrmanni.txt', sep = ';')"
   ]
  },
  {
   "cell_type": "code",
   "execution_count": 12,
   "metadata": {},
   "outputs": [],
   "source": [
    "import numpy \n",
    "Itis[\"car_r_t\"] = Itis[\"car_r_t\"].replace({-1: numpy.nan})\n",
    "Myyrmanni[\"car_r_t\"] = Myyrmanni[\"car_r_t\"].replace({-1: numpy.nan})"
   ]
  },
  {
   "cell_type": "code",
   "execution_count": 26,
   "metadata": {},
   "outputs": [
    {
     "data": {
      "text/html": [
       "<div>\n",
       "<style scoped>\n",
       "    .dataframe tbody tr th:only-of-type {\n",
       "        vertical-align: middle;\n",
       "    }\n",
       "\n",
       "    .dataframe tbody tr th {\n",
       "        vertical-align: top;\n",
       "    }\n",
       "\n",
       "    .dataframe thead th {\n",
       "        text-align: right;\n",
       "    }\n",
       "</style>\n",
       "<table border=\"1\" class=\"dataframe\">\n",
       "  <thead>\n",
       "    <tr style=\"text-align: right;\">\n",
       "      <th></th>\n",
       "      <th>from_id</th>\n",
       "      <th>to_id</th>\n",
       "      <th>walk_t</th>\n",
       "      <th>walk_d</th>\n",
       "      <th>car_r_t_Myyrmanni</th>\n",
       "      <th>car_r_d</th>\n",
       "      <th>car_m_t</th>\n",
       "      <th>car_m_d</th>\n",
       "      <th>pt_r_t_Myyrmanni</th>\n",
       "      <th>pt_r_tt</th>\n",
       "      <th>pt_r_d</th>\n",
       "      <th>pt_m_t</th>\n",
       "      <th>pt_m_tt</th>\n",
       "      <th>pt_m_d</th>\n",
       "    </tr>\n",
       "  </thead>\n",
       "  <tbody>\n",
       "    <tr>\n",
       "      <th>0</th>\n",
       "      <td>5785640</td>\n",
       "      <td>5902043</td>\n",
       "      <td>295</td>\n",
       "      <td>20668</td>\n",
       "      <td>39.0</td>\n",
       "      <td>22321</td>\n",
       "      <td>35</td>\n",
       "      <td>22321</td>\n",
       "      <td>90</td>\n",
       "      <td>121</td>\n",
       "      <td>21119</td>\n",
       "      <td>98</td>\n",
       "      <td>129</td>\n",
       "      <td>21119</td>\n",
       "    </tr>\n",
       "    <tr>\n",
       "      <th>1</th>\n",
       "      <td>5785641</td>\n",
       "      <td>5902043</td>\n",
       "      <td>258</td>\n",
       "      <td>18052</td>\n",
       "      <td>39.0</td>\n",
       "      <td>22532</td>\n",
       "      <td>35</td>\n",
       "      <td>22532</td>\n",
       "      <td>93</td>\n",
       "      <td>115</td>\n",
       "      <td>21325</td>\n",
       "      <td>101</td>\n",
       "      <td>127</td>\n",
       "      <td>21325</td>\n",
       "    </tr>\n",
       "    <tr>\n",
       "      <th>2</th>\n",
       "      <td>5785642</td>\n",
       "      <td>5902043</td>\n",
       "      <td>259</td>\n",
       "      <td>18131</td>\n",
       "      <td>47.0</td>\n",
       "      <td>22216</td>\n",
       "      <td>42</td>\n",
       "      <td>20440</td>\n",
       "      <td>95</td>\n",
       "      <td>115</td>\n",
       "      <td>21443</td>\n",
       "      <td>103</td>\n",
       "      <td>128</td>\n",
       "      <td>21443</td>\n",
       "    </tr>\n",
       "    <tr>\n",
       "      <th>3</th>\n",
       "      <td>5785643</td>\n",
       "      <td>5902043</td>\n",
       "      <td>263</td>\n",
       "      <td>18424</td>\n",
       "      <td>51.0</td>\n",
       "      <td>24773</td>\n",
       "      <td>46</td>\n",
       "      <td>22996</td>\n",
       "      <td>99</td>\n",
       "      <td>126</td>\n",
       "      <td>21736</td>\n",
       "      <td>107</td>\n",
       "      <td>132</td>\n",
       "      <td>21736</td>\n",
       "    </tr>\n",
       "    <tr>\n",
       "      <th>4</th>\n",
       "      <td>5787544</td>\n",
       "      <td>5902043</td>\n",
       "      <td>288</td>\n",
       "      <td>20179</td>\n",
       "      <td>38.0</td>\n",
       "      <td>21895</td>\n",
       "      <td>34</td>\n",
       "      <td>21895</td>\n",
       "      <td>83</td>\n",
       "      <td>103</td>\n",
       "      <td>20630</td>\n",
       "      <td>91</td>\n",
       "      <td>108</td>\n",
       "      <td>20630</td>\n",
       "    </tr>\n",
       "    <tr>\n",
       "      <th>...</th>\n",
       "      <td>...</td>\n",
       "      <td>...</td>\n",
       "      <td>...</td>\n",
       "      <td>...</td>\n",
       "      <td>...</td>\n",
       "      <td>...</td>\n",
       "      <td>...</td>\n",
       "      <td>...</td>\n",
       "      <td>...</td>\n",
       "      <td>...</td>\n",
       "      <td>...</td>\n",
       "      <td>...</td>\n",
       "      <td>...</td>\n",
       "      <td>...</td>\n",
       "    </tr>\n",
       "    <tr>\n",
       "      <th>13226</th>\n",
       "      <td>6016698</td>\n",
       "      <td>5902043</td>\n",
       "      <td>362</td>\n",
       "      <td>25329</td>\n",
       "      <td>54.0</td>\n",
       "      <td>31686</td>\n",
       "      <td>47</td>\n",
       "      <td>31635</td>\n",
       "      <td>95</td>\n",
       "      <td>111</td>\n",
       "      <td>32743</td>\n",
       "      <td>92</td>\n",
       "      <td>112</td>\n",
       "      <td>31996</td>\n",
       "    </tr>\n",
       "    <tr>\n",
       "      <th>13227</th>\n",
       "      <td>6016699</td>\n",
       "      <td>5902043</td>\n",
       "      <td>364</td>\n",
       "      <td>25456</td>\n",
       "      <td>56.0</td>\n",
       "      <td>31373</td>\n",
       "      <td>49</td>\n",
       "      <td>31322</td>\n",
       "      <td>97</td>\n",
       "      <td>111</td>\n",
       "      <td>32870</td>\n",
       "      <td>94</td>\n",
       "      <td>112</td>\n",
       "      <td>32123</td>\n",
       "    </tr>\n",
       "    <tr>\n",
       "      <th>13228</th>\n",
       "      <td>6018252</td>\n",
       "      <td>-1</td>\n",
       "      <td>-1</td>\n",
       "      <td>-1</td>\n",
       "      <td>NaN</td>\n",
       "      <td>-1</td>\n",
       "      <td>-1</td>\n",
       "      <td>-1</td>\n",
       "      <td>-1</td>\n",
       "      <td>-1</td>\n",
       "      <td>-1</td>\n",
       "      <td>-1</td>\n",
       "      <td>-1</td>\n",
       "      <td>-1</td>\n",
       "    </tr>\n",
       "    <tr>\n",
       "      <th>13229</th>\n",
       "      <td>6018253</td>\n",
       "      <td>5902043</td>\n",
       "      <td>367</td>\n",
       "      <td>25686</td>\n",
       "      <td>55.0</td>\n",
       "      <td>31863</td>\n",
       "      <td>48</td>\n",
       "      <td>31812</td>\n",
       "      <td>100</td>\n",
       "      <td>111</td>\n",
       "      <td>33100</td>\n",
       "      <td>97</td>\n",
       "      <td>112</td>\n",
       "      <td>32353</td>\n",
       "    </tr>\n",
       "    <tr>\n",
       "      <th>13230</th>\n",
       "      <td>6018254</td>\n",
       "      <td>5902043</td>\n",
       "      <td>365</td>\n",
       "      <td>25556</td>\n",
       "      <td>57.0</td>\n",
       "      <td>31961</td>\n",
       "      <td>50</td>\n",
       "      <td>31910</td>\n",
       "      <td>98</td>\n",
       "      <td>111</td>\n",
       "      <td>32970</td>\n",
       "      <td>95</td>\n",
       "      <td>112</td>\n",
       "      <td>32223</td>\n",
       "    </tr>\n",
       "  </tbody>\n",
       "</table>\n",
       "<p>13231 rows × 14 columns</p>\n",
       "</div>"
      ],
      "text/plain": [
       "       from_id    to_id  walk_t  walk_d  car_r_t_Myyrmanni  car_r_d  car_m_t  \\\n",
       "0      5785640  5902043     295   20668               39.0    22321       35   \n",
       "1      5785641  5902043     258   18052               39.0    22532       35   \n",
       "2      5785642  5902043     259   18131               47.0    22216       42   \n",
       "3      5785643  5902043     263   18424               51.0    24773       46   \n",
       "4      5787544  5902043     288   20179               38.0    21895       34   \n",
       "...        ...      ...     ...     ...                ...      ...      ...   \n",
       "13226  6016698  5902043     362   25329               54.0    31686       47   \n",
       "13227  6016699  5902043     364   25456               56.0    31373       49   \n",
       "13228  6018252       -1      -1      -1                NaN       -1       -1   \n",
       "13229  6018253  5902043     367   25686               55.0    31863       48   \n",
       "13230  6018254  5902043     365   25556               57.0    31961       50   \n",
       "\n",
       "       car_m_d  pt_r_t_Myyrmanni  pt_r_tt  pt_r_d  pt_m_t  pt_m_tt  pt_m_d  \n",
       "0        22321                90      121   21119      98      129   21119  \n",
       "1        22532                93      115   21325     101      127   21325  \n",
       "2        20440                95      115   21443     103      128   21443  \n",
       "3        22996                99      126   21736     107      132   21736  \n",
       "4        21895                83      103   20630      91      108   20630  \n",
       "...        ...               ...      ...     ...     ...      ...     ...  \n",
       "13226    31635                95      111   32743      92      112   31996  \n",
       "13227    31322                97      111   32870      94      112   32123  \n",
       "13228       -1                -1       -1      -1      -1       -1      -1  \n",
       "13229    31812               100      111   33100      97      112   32353  \n",
       "13230    31910                98      111   32970      95      112   32223  \n",
       "\n",
       "[13231 rows x 14 columns]"
      ]
     },
     "execution_count": 26,
     "metadata": {},
     "output_type": "execute_result"
    }
   ],
   "source": [
    "#Itis['pt_r_t'].rename(Itis['pt_r_t_Itis'])\n",
    "#Itis['car_r_t'] = Itis['car_r_t_Itis']\n",
    "Itis.rename(columns = {'pt_r_t':'pt_r_t_Itis','car_r_t':'car_r_t_Itis'})\n",
    "Myyrmanni.rename(columns = {'pt_r_t':'pt_r_t_Myyrmanni','car_r_t':'car_r_t_Myyrmanni'})\n",
    "\n"
   ]
  },
  {
   "cell_type": "code",
   "execution_count": 31,
   "metadata": {},
   "outputs": [],
   "source": [
    "itis = Itis[['from_id','to_id','pt_r_t','car_r_t']]\n",
    "myyrmanni = Myyrmanni[['from_id','to_id','pt_r_t','car_r_t']]"
   ]
  },
  {
   "cell_type": "code",
   "execution_count": 35,
   "metadata": {},
   "outputs": [],
   "source": [
    "grid = grid.join(Itis, on = 'from_id', lsuffix='_caller', rsuffix='_other')\n",
    "#grid= grid.join(Myyrmanni)"
   ]
  },
  {
   "cell_type": "code",
   "execution_count": 37,
   "metadata": {},
   "outputs": [],
   "source": [
    "grid = grid.join(Myyrmanni, on = 'from_id_caller', lsuffix='_callerm', rsuffix='_otherm')"
   ]
  },
  {
   "cell_type": "code",
   "execution_count": 13,
   "metadata": {
    "deletable": false,
    "editable": false
   },
   "outputs": [],
   "source": [
    "# NON-EDITABLE TEST CELL\n",
    "import geopandas\n",
    "assert type(grid) == geopandas.geodataframe.GeoDataFrame, \"Output should be a geodataframe.\""
   ]
  },
  {
   "cell_type": "code",
   "execution_count": 38,
   "metadata": {
    "deletable": false,
    "editable": false
   },
   "outputs": [
    {
     "ename": "AssertionError",
     "evalue": "Couldn’t find all required columns.",
     "output_type": "error",
     "traceback": [
      "\u001b[1;31m---------------------------------------------------------------------------\u001b[0m",
      "\u001b[1;31mAssertionError\u001b[0m                            Traceback (most recent call last)",
      "Input \u001b[1;32mIn [38]\u001b[0m, in \u001b[0;36m<cell line: 5>\u001b[1;34m()\u001b[0m\n\u001b[0;32m      1\u001b[0m \u001b[38;5;66;03m# NON-EDITABLE TEST CELL\u001b[39;00m\n\u001b[0;32m      2\u001b[0m \u001b[38;5;66;03m# Check that the merged output have (at least) the necessary columns\u001b[39;00m\n\u001b[0;32m      3\u001b[0m required_columns \u001b[38;5;241m=\u001b[39m [\u001b[38;5;124m'\u001b[39m\u001b[38;5;124mpt_r_t_Itis\u001b[39m\u001b[38;5;124m'\u001b[39m, \u001b[38;5;124m'\u001b[39m\u001b[38;5;124mcar_r_t_Itis\u001b[39m\u001b[38;5;124m'\u001b[39m, \u001b[38;5;124m'\u001b[39m\u001b[38;5;124mpt_r_t_Myyrmanni\u001b[39m\u001b[38;5;124m'\u001b[39m, \u001b[38;5;124m'\u001b[39m\u001b[38;5;124mcar_r_t_Myyrmanni\u001b[39m\u001b[38;5;124m'\u001b[39m, \u001b[38;5;124m'\u001b[39m\u001b[38;5;124mgeometry\u001b[39m\u001b[38;5;124m'\u001b[39m]\n\u001b[1;32m----> 5\u001b[0m \u001b[38;5;28;01massert\u001b[39;00m \u001b[38;5;28mall\u001b[39m(column \u001b[38;5;129;01min\u001b[39;00m grid\u001b[38;5;241m.\u001b[39mcolumns \u001b[38;5;28;01mfor\u001b[39;00m column \u001b[38;5;129;01min\u001b[39;00m required_columns), \u001b[38;5;124m\"\u001b[39m\u001b[38;5;124mCouldn’t find all required columns.\u001b[39m\u001b[38;5;124m\"\u001b[39m\n",
      "\u001b[1;31mAssertionError\u001b[0m: Couldn’t find all required columns."
     ]
    }
   ],
   "source": [
    "# NON-EDITABLE TEST CELL\n",
    "# Check that the merged output have (at least) the necessary columns\n",
    "required_columns = ['pt_r_t_Itis', 'car_r_t_Itis', 'pt_r_t_Myyrmanni', 'car_r_t_Myyrmanni', 'geometry']\n",
    "\n",
    "assert all(column in grid.columns for column in required_columns), \"Couldn’t find all required columns.\""
   ]
  },
  {
   "cell_type": "code",
   "execution_count": 39,
   "metadata": {
    "deletable": false,
    "editable": false
   },
   "outputs": [
    {
     "ename": "KeyError",
     "evalue": "'car_r_t_Itis'",
     "output_type": "error",
     "traceback": [
      "\u001b[1;31m---------------------------------------------------------------------------\u001b[0m",
      "\u001b[1;31mKeyError\u001b[0m                                  Traceback (most recent call last)",
      "File \u001b[1;32m~\\miniconda3\\envs\\python-gis\\lib\\site-packages\\pandas\\core\\indexes\\base.py:3621\u001b[0m, in \u001b[0;36mIndex.get_loc\u001b[1;34m(self, key, method, tolerance)\u001b[0m\n\u001b[0;32m   3620\u001b[0m \u001b[38;5;28;01mtry\u001b[39;00m:\n\u001b[1;32m-> 3621\u001b[0m     \u001b[38;5;28;01mreturn\u001b[39;00m \u001b[38;5;28;43mself\u001b[39;49m\u001b[38;5;241;43m.\u001b[39;49m\u001b[43m_engine\u001b[49m\u001b[38;5;241;43m.\u001b[39;49m\u001b[43mget_loc\u001b[49m\u001b[43m(\u001b[49m\u001b[43mcasted_key\u001b[49m\u001b[43m)\u001b[49m\n\u001b[0;32m   3622\u001b[0m \u001b[38;5;28;01mexcept\u001b[39;00m \u001b[38;5;167;01mKeyError\u001b[39;00m \u001b[38;5;28;01mas\u001b[39;00m err:\n",
      "File \u001b[1;32m~\\miniconda3\\envs\\python-gis\\lib\\site-packages\\pandas\\_libs\\index.pyx:136\u001b[0m, in \u001b[0;36mpandas._libs.index.IndexEngine.get_loc\u001b[1;34m()\u001b[0m\n",
      "File \u001b[1;32m~\\miniconda3\\envs\\python-gis\\lib\\site-packages\\pandas\\_libs\\index.pyx:163\u001b[0m, in \u001b[0;36mpandas._libs.index.IndexEngine.get_loc\u001b[1;34m()\u001b[0m\n",
      "File \u001b[1;32mpandas\\_libs\\hashtable_class_helper.pxi:5198\u001b[0m, in \u001b[0;36mpandas._libs.hashtable.PyObjectHashTable.get_item\u001b[1;34m()\u001b[0m\n",
      "File \u001b[1;32mpandas\\_libs\\hashtable_class_helper.pxi:5206\u001b[0m, in \u001b[0;36mpandas._libs.hashtable.PyObjectHashTable.get_item\u001b[1;34m()\u001b[0m\n",
      "\u001b[1;31mKeyError\u001b[0m: 'car_r_t_Itis'",
      "\nThe above exception was the direct cause of the following exception:\n",
      "\u001b[1;31mKeyError\u001b[0m                                  Traceback (most recent call last)",
      "Input \u001b[1;32mIn [39]\u001b[0m, in \u001b[0;36m<cell line: 3>\u001b[1;34m()\u001b[0m\n\u001b[0;32m      3\u001b[0m \u001b[38;5;28;01mfor\u001b[39;00m shopping_centre \u001b[38;5;129;01min\u001b[39;00m (\u001b[38;5;124m\"\u001b[39m\u001b[38;5;124mItis\u001b[39m\u001b[38;5;124m\"\u001b[39m, \u001b[38;5;124m\"\u001b[39m\u001b[38;5;124mMyyrmanni\u001b[39m\u001b[38;5;124m\"\u001b[39m):\n\u001b[0;32m      4\u001b[0m     \u001b[38;5;28;01mfor\u001b[39;00m column \u001b[38;5;129;01min\u001b[39;00m (\u001b[38;5;124m\"\u001b[39m\u001b[38;5;124mcar_r_t\u001b[39m\u001b[38;5;124m\"\u001b[39m, \u001b[38;5;124m\"\u001b[39m\u001b[38;5;124mpt_r_t\u001b[39m\u001b[38;5;124m\"\u001b[39m):\n\u001b[1;32m----> 5\u001b[0m         \u001b[38;5;28;01massert\u001b[39;00m \u001b[38;5;241m-\u001b[39m\u001b[38;5;241m1\u001b[39m \u001b[38;5;129;01mnot\u001b[39;00m \u001b[38;5;129;01min\u001b[39;00m \u001b[43mgrid\u001b[49m\u001b[43m[\u001b[49m\u001b[38;5;124;43mf\u001b[39;49m\u001b[38;5;124;43m\"\u001b[39;49m\u001b[38;5;132;43;01m{\u001b[39;49;00m\u001b[43mcolumn\u001b[49m\u001b[38;5;132;43;01m}\u001b[39;49;00m\u001b[38;5;124;43m_\u001b[39;49m\u001b[38;5;132;43;01m{\u001b[39;49;00m\u001b[43mshopping_centre\u001b[49m\u001b[38;5;132;43;01m}\u001b[39;49;00m\u001b[38;5;124;43m\"\u001b[39;49m\u001b[43m]\u001b[49m, \u001b[38;5;124m\"\u001b[39m\u001b[38;5;124mNoData values (-1) should be removed from the data!\u001b[39m\u001b[38;5;124m\"\u001b[39m\n",
      "File \u001b[1;32m~\\miniconda3\\envs\\python-gis\\lib\\site-packages\\geopandas\\geodataframe.py:1428\u001b[0m, in \u001b[0;36mGeoDataFrame.__getitem__\u001b[1;34m(self, key)\u001b[0m\n\u001b[0;32m   1422\u001b[0m \u001b[38;5;28;01mdef\u001b[39;00m \u001b[38;5;21m__getitem__\u001b[39m(\u001b[38;5;28mself\u001b[39m, key):\n\u001b[0;32m   1423\u001b[0m     \u001b[38;5;124;03m\"\"\"\u001b[39;00m\n\u001b[0;32m   1424\u001b[0m \u001b[38;5;124;03m    If the result is a column containing only 'geometry', return a\u001b[39;00m\n\u001b[0;32m   1425\u001b[0m \u001b[38;5;124;03m    GeoSeries. If it's a DataFrame with any columns of GeometryDtype,\u001b[39;00m\n\u001b[0;32m   1426\u001b[0m \u001b[38;5;124;03m    return a GeoDataFrame.\u001b[39;00m\n\u001b[0;32m   1427\u001b[0m \u001b[38;5;124;03m    \"\"\"\u001b[39;00m\n\u001b[1;32m-> 1428\u001b[0m     result \u001b[38;5;241m=\u001b[39m \u001b[38;5;28;43msuper\u001b[39;49m\u001b[43m(\u001b[49m\u001b[43m)\u001b[49m\u001b[38;5;241;43m.\u001b[39;49m\u001b[38;5;21;43m__getitem__\u001b[39;49m\u001b[43m(\u001b[49m\u001b[43mkey\u001b[49m\u001b[43m)\u001b[49m\n\u001b[0;32m   1429\u001b[0m     geo_col \u001b[38;5;241m=\u001b[39m \u001b[38;5;28mself\u001b[39m\u001b[38;5;241m.\u001b[39m_geometry_column_name\n\u001b[0;32m   1430\u001b[0m     \u001b[38;5;28;01mif\u001b[39;00m \u001b[38;5;28misinstance\u001b[39m(result, Series) \u001b[38;5;129;01mand\u001b[39;00m \u001b[38;5;28misinstance\u001b[39m(result\u001b[38;5;241m.\u001b[39mdtype, GeometryDtype):\n",
      "File \u001b[1;32m~\\miniconda3\\envs\\python-gis\\lib\\site-packages\\pandas\\core\\frame.py:3505\u001b[0m, in \u001b[0;36mDataFrame.__getitem__\u001b[1;34m(self, key)\u001b[0m\n\u001b[0;32m   3503\u001b[0m \u001b[38;5;28;01mif\u001b[39;00m \u001b[38;5;28mself\u001b[39m\u001b[38;5;241m.\u001b[39mcolumns\u001b[38;5;241m.\u001b[39mnlevels \u001b[38;5;241m>\u001b[39m \u001b[38;5;241m1\u001b[39m:\n\u001b[0;32m   3504\u001b[0m     \u001b[38;5;28;01mreturn\u001b[39;00m \u001b[38;5;28mself\u001b[39m\u001b[38;5;241m.\u001b[39m_getitem_multilevel(key)\n\u001b[1;32m-> 3505\u001b[0m indexer \u001b[38;5;241m=\u001b[39m \u001b[38;5;28;43mself\u001b[39;49m\u001b[38;5;241;43m.\u001b[39;49m\u001b[43mcolumns\u001b[49m\u001b[38;5;241;43m.\u001b[39;49m\u001b[43mget_loc\u001b[49m\u001b[43m(\u001b[49m\u001b[43mkey\u001b[49m\u001b[43m)\u001b[49m\n\u001b[0;32m   3506\u001b[0m \u001b[38;5;28;01mif\u001b[39;00m is_integer(indexer):\n\u001b[0;32m   3507\u001b[0m     indexer \u001b[38;5;241m=\u001b[39m [indexer]\n",
      "File \u001b[1;32m~\\miniconda3\\envs\\python-gis\\lib\\site-packages\\pandas\\core\\indexes\\base.py:3623\u001b[0m, in \u001b[0;36mIndex.get_loc\u001b[1;34m(self, key, method, tolerance)\u001b[0m\n\u001b[0;32m   3621\u001b[0m     \u001b[38;5;28;01mreturn\u001b[39;00m \u001b[38;5;28mself\u001b[39m\u001b[38;5;241m.\u001b[39m_engine\u001b[38;5;241m.\u001b[39mget_loc(casted_key)\n\u001b[0;32m   3622\u001b[0m \u001b[38;5;28;01mexcept\u001b[39;00m \u001b[38;5;167;01mKeyError\u001b[39;00m \u001b[38;5;28;01mas\u001b[39;00m err:\n\u001b[1;32m-> 3623\u001b[0m     \u001b[38;5;28;01mraise\u001b[39;00m \u001b[38;5;167;01mKeyError\u001b[39;00m(key) \u001b[38;5;28;01mfrom\u001b[39;00m \u001b[38;5;21;01merr\u001b[39;00m\n\u001b[0;32m   3624\u001b[0m \u001b[38;5;28;01mexcept\u001b[39;00m \u001b[38;5;167;01mTypeError\u001b[39;00m:\n\u001b[0;32m   3625\u001b[0m     \u001b[38;5;66;03m# If we have a listlike key, _check_indexing_error will raise\u001b[39;00m\n\u001b[0;32m   3626\u001b[0m     \u001b[38;5;66;03m#  InvalidIndexError. Otherwise we fall through and re-raise\u001b[39;00m\n\u001b[0;32m   3627\u001b[0m     \u001b[38;5;66;03m#  the TypeError.\u001b[39;00m\n\u001b[0;32m   3628\u001b[0m     \u001b[38;5;28mself\u001b[39m\u001b[38;5;241m.\u001b[39m_check_indexing_error(key)\n",
      "\u001b[1;31mKeyError\u001b[0m: 'car_r_t_Itis'"
     ]
    }
   ],
   "source": [
    "# NON-EDITABLE TEST CELL\n",
    "# Check that -1 values are not present in the columns\n",
    "for shopping_centre in (\"Itis\", \"Myyrmanni\"):\n",
    "    for column in (\"car_r_t\", \"pt_r_t\"):\n",
    "        assert -1 not in grid[f\"{column}_{shopping_centre}\"], \"NoData values (-1) should be removed from the data!\""
   ]
  },
  {
   "cell_type": "markdown",
   "metadata": {
    "deletable": false,
    "editable": false,
    "tags": []
   },
   "source": [
    "\n",
    "---\n",
    "\n",
    "### c) Classify the travel times into five-minute intervals \n",
    "\n",
    "Classify the travel times for both travel modes (public transport and private car) into five-minute intervals \n",
    "- Create a **[`mapclassify.UserDefined` classifier](https://github.com/pysal/mapclassify#userdefined)**,\n",
    "  using these class breaks: `5, 10, 15, 20, 25, 30, 35, 40, 45, 50, 55, 60`\n",
    "- Apply the classifier to `pt_r_t_[ShoppingCentre]` and `car_r_t_[ShoppingCentre]` columns,\n",
    "  and store the results to `pt_r_t_cl_[ShoppingCentre]` and `car_r_t_cl_[ShoppingCentre]` columns, respectively\n",
    "\n",
    "*Note that these 12 class breaks will produce 13 classes (1 class break divides the data into two classes)*"
   ]
  },
  {
   "cell_type": "code",
   "execution_count": null,
   "metadata": {},
   "outputs": [],
   "source": [
    "# ADD YOUR OWN CODE HERE\n",
    "import mapclassify\n"
   ]
  },
  {
   "cell_type": "code",
   "execution_count": null,
   "metadata": {
    "deletable": false,
    "editable": false
   },
   "outputs": [],
   "source": [
    "# NON-EDITABLE TEST CELL\n",
    "# Check the output\n",
    "print(\"travel times by public transport:\")\n",
    "grid[['pt_r_t_Itis', 'pt_r_t_cl_Itis']].head()"
   ]
  },
  {
   "cell_type": "code",
   "execution_count": null,
   "metadata": {
    "deletable": false,
    "editable": false
   },
   "outputs": [],
   "source": [
    "# NON-EDITABLE TEST CELL\n",
    "# Check the output\n",
    "print(\"Travel times by car:\")\n",
    "grid[[\"car_r_t_Myyrmanni\", \"car_r_t_cl_Myyrmanni\"]].head()"
   ]
  },
  {
   "cell_type": "markdown",
   "metadata": {
    "deletable": false,
    "editable": false,
    "tags": []
   },
   "source": [
    "### d) Plot the classified travel times\n",
    "\n",
    "Create a 2⨉2 plot, in which you plot the *classified* travel times by public transport (left) and by car (right),\n",
    "to Itis (top) and Myyrmanni (bottom):\n",
    "\n",
    "- [Create subplots using `matplotlib.pyplot.subplots()`](https://geo-python-site.readthedocs.io/en/latest/notebooks/L7/advanced-plotting.html#using-subplots),\n",
    "  with 2 rows and 2 columns. Increase the figure size to 10⨉10\"\n",
    "- Add appropriate titles for the subplots\n",
    "- Save the figure to a file called `shopping_centre_accessibility.png` in the `DATA_DIRECTORY`\n"
   ]
  },
  {
   "cell_type": "code",
   "execution_count": null,
   "metadata": {},
   "outputs": [],
   "source": [
    "# ADD YOUR OWN CODE HERE\n"
   ]
  },
  {
   "cell_type": "code",
   "execution_count": null,
   "metadata": {
    "deletable": false,
    "editable": false
   },
   "outputs": [],
   "source": [
    "# NON-EDITABLE TEST CELL\n",
    "# Check that output figure file exists\n",
    "assert (DATA_DIRECTORY / \"shopping_centre_accessibility.png\").exists()"
   ]
  },
  {
   "cell_type": "markdown",
   "metadata": {
    "deletable": false,
    "editable": false
   },
   "source": [
    "\n",
    "---\n",
    "\n",
    "**Finally**, check that you have provided adequate comments in your code.\n",
    "\n",
    "---\n",
    "\n",
    "### Reflections\n",
    "\n",
    "If you want to ask feedback on spesific parts of your code, please leave your comment here"
   ]
  },
  {
   "cell_type": "markdown",
   "metadata": {
    "deletable": false,
    "editable": false
   },
   "source": [
    "\n",
    "---\n",
    "\n",
    "### Done!\n",
    "\n",
    "**Remember to commit the output figure** to your exercise repository!\n",
    "\n",
    "That’s! Once you have plotted the data and saved the output, you are ready to proceed to *problem 2*."
   ]
  }
 ],
 "metadata": {
  "anaconda-cloud": {},
  "kernelspec": {
   "display_name": "Python 3 (ipykernel)",
   "language": "python",
   "name": "python3"
  },
  "language_info": {
   "codemirror_mode": {
    "name": "ipython",
    "version": 3
   },
   "file_extension": ".py",
   "mimetype": "text/x-python",
   "name": "python",
   "nbconvert_exporter": "python",
   "pygments_lexer": "ipython3",
   "version": "3.10.5"
  }
 },
 "nbformat": 4,
 "nbformat_minor": 4
}
