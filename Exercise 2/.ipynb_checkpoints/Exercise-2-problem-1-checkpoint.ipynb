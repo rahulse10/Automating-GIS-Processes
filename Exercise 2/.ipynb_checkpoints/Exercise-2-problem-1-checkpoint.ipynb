{
 "cells": [
  {
   "cell_type": "markdown",
   "metadata": {
    "deletable": false,
    "editable": false
   },
   "source": [
    "## Problem 1: Create a polygon from a list of coordinates (5 points)\n",
    "\n",
    "In the first problem, **the aim is to create a polygon based on the provided coordinates, and to plot the polygon in a map.** \n",
    "\n",
    "Two lists, `longitudes` and `latitudes`, contain the input coordinates for the polygon. You need to ‘assemble’ the coordinates to individual tuples of one longitude and one latitude coordinate each (The first coordinate pair looks like this: `(29.99671173095703, 63.748023986816406)`)."
   ]
  },
  {
   "cell_type": "code",
   "execution_count": 1,
   "metadata": {
    "deletable": false,
    "editable": false
   },
   "outputs": [],
   "source": [
    "# Longitudes in decimal degrees\n",
    "longitudes = [29.99671173095703, 31.58196258544922, 27.738052368164062, 26.50013542175293, 26.652359008789062, 25.921663284301758, 22.90027618408203, 23.257217407226562,\n",
    "           23.335693359375, 22.87444305419922, 23.08465003967285, 22.565473556518555, 21.452774047851562, 21.66388702392578, 21.065969467163086, 21.67659568786621,\n",
    "           21.496871948242188, 22.339998245239258, 22.288192749023438, 24.539581298828125, 25.444232940673828, 25.303749084472656, 24.669166564941406, 24.689163208007812,\n",
    "           24.174999237060547, 23.68471908569336, 24.000761032104492, 23.57332992553711, 23.76513671875, 23.430830001831055, 23.6597900390625, 20.580928802490234, 21.320831298828125,\n",
    "           22.398330688476562, 23.97638702392578, 24.934917449951172, 25.7611083984375, 25.95930290222168, 26.476804733276367, 27.91069221496582, 29.1027774810791, 29.29846954345703,\n",
    "           28.4355525970459, 28.817358016967773, 28.459857940673828, 30.028610229492188, 29.075136184692383, 30.13492774963379, 29.818885803222656, 29.640830993652344, 30.57735824584961,\n",
    "           29.99671173095703]\n",
    "\n",
    "# Latitudes in decimal degrees\n",
    "latitudes = [63.748023986816406, 62.90789794921875, 60.511383056640625, 60.44499588012695, 60.646385192871094, 60.243743896484375, 59.806800842285156, 59.91944122314453,\n",
    "           60.02395248413086, 60.14555358886719, 60.3452033996582, 60.211936950683594, 60.56249237060547, 61.54027557373047, 62.59798049926758, 63.02013397216797,\n",
    "           63.20353698730469, 63.27652359008789, 63.525691986083984, 64.79915618896484, 64.9533920288086, 65.51513671875, 65.65470886230469, 65.89610290527344, 65.79151916503906,\n",
    "           66.26332092285156, 66.80228424072266, 67.1570053100586, 67.4168701171875, 67.47978210449219, 67.94589233398438, 69.060302734375, 69.32611083984375, 68.71110534667969,\n",
    "           68.83248901367188, 68.580810546875, 68.98916625976562, 69.68568420410156, 69.9363784790039, 70.08860778808594, 69.70597076416016, 69.48533630371094, 68.90263366699219,\n",
    "           68.84700012207031, 68.53485107421875, 67.69471740722656, 66.90360260009766, 65.70887756347656, 65.6533203125, 64.92096710205078, 64.22373962402344, 63.748023986816406]"
   ]
  },
  {
   "cell_type": "markdown",
   "metadata": {
    "deletable": false,
    "editable": false,
    "tags": []
   },
   "source": [
    "### a) Create a `shapely.geometry.Polygon` geometry `polygon` based on the coordinates\n",
    "\n",
    "- Create a list of coordinate pairs based on the provided longitudes and latitudes and store the list in a variable `coordinate_pairs`. A coordinate pair can be either a tuple or a list.\n",
    "- Create a `shapely.geometry.Polygon` using the `coordinate_pairs`. Store the polygon in a variable `polygon`."
   ]
  },
  {
   "cell_type": "code",
   "execution_count": 5,
   "metadata": {
    "collapsed": false,
    "jupyter": {
     "outputs_hidden": false
    }
   },
   "outputs": [],
   "source": [
    "# ADD YOUR OWN CODE HERE\n",
    "import pandas as pd\n",
    "\n",
    "#Creating the list\n",
    "from shapely.geometry import Polygon\n",
    "coordinate_pairs = []\n",
    "for x,y in zip(longitudes, latitudes):\n",
    "    coordinate_pairs.append((x,y))\n",
    "\n",
    "#Creating Polygons\n",
    "polygon = Polygon(coordinate_pairs)\n",
    "    "
   ]
  },
  {
   "cell_type": "code",
   "execution_count": 6,
   "metadata": {},
   "outputs": [
    {
     "data": {
      "image/svg+xml": [
       "<svg xmlns=\"http://www.w3.org/2000/svg\" xmlns:xlink=\"http://www.w3.org/1999/xlink\" width=\"100.0\" height=\"100.0\" viewBox=\"20.140887451171874 59.3667594909668 11.881116485595701 11.161889648437494\" preserveAspectRatio=\"xMinYMin meet\"><g transform=\"matrix(1,0,0,-1,0,129.8954086303711)\"><path fill-rule=\"evenodd\" fill=\"#66cc99\" stroke=\"#555555\" stroke-width=\"0.23762232971191402\" opacity=\"0.6\" d=\"M 29.99671173095703,63.748023986816406 L 31.58196258544922,62.90789794921875 L 27.738052368164062,60.511383056640625 L 26.50013542175293,60.44499588012695 L 26.652359008789062,60.646385192871094 L 25.921663284301758,60.243743896484375 L 22.90027618408203,59.806800842285156 L 23.257217407226562,59.91944122314453 L 23.335693359375,60.02395248413086 L 22.87444305419922,60.14555358886719 L 23.08465003967285,60.3452033996582 L 22.565473556518555,60.211936950683594 L 21.452774047851562,60.56249237060547 L 21.66388702392578,61.54027557373047 L 21.065969467163086,62.59798049926758 L 21.67659568786621,63.02013397216797 L 21.496871948242188,63.20353698730469 L 22.339998245239258,63.27652359008789 L 22.288192749023438,63.525691986083984 L 24.539581298828125,64.79915618896484 L 25.444232940673828,64.9533920288086 L 25.303749084472656,65.51513671875 L 24.669166564941406,65.65470886230469 L 24.689163208007812,65.89610290527344 L 24.174999237060547,65.79151916503906 L 23.68471908569336,66.26332092285156 L 24.000761032104492,66.80228424072266 L 23.57332992553711,67.1570053100586 L 23.76513671875,67.4168701171875 L 23.430830001831055,67.47978210449219 L 23.6597900390625,67.94589233398438 L 20.580928802490234,69.060302734375 L 21.320831298828125,69.32611083984375 L 22.398330688476562,68.71110534667969 L 23.97638702392578,68.83248901367188 L 24.934917449951172,68.580810546875 L 25.7611083984375,68.98916625976562 L 25.95930290222168,69.68568420410156 L 26.476804733276367,69.9363784790039 L 27.91069221496582,70.08860778808594 L 29.1027774810791,69.70597076416016 L 29.29846954345703,69.48533630371094 L 28.4355525970459,68.90263366699219 L 28.817358016967773,68.84700012207031 L 28.459857940673828,68.53485107421875 L 30.028610229492188,67.69471740722656 L 29.075136184692383,66.90360260009766 L 30.13492774963379,65.70887756347656 L 29.818885803222656,65.6533203125 L 29.640830993652344,64.92096710205078 L 30.57735824584961,64.22373962402344 L 29.99671173095703,63.748023986816406 z\" /></g></svg>"
      ],
      "text/plain": [
       "<shapely.geometry.polygon.Polygon at 0x12635953b20>"
      ]
     },
     "execution_count": 6,
     "metadata": {},
     "output_type": "execute_result"
    }
   ],
   "source": [
    "polygon"
   ]
  },
  {
   "cell_type": "code",
   "execution_count": 7,
   "metadata": {
    "deletable": false,
    "editable": false
   },
   "outputs": [
    {
     "name": "stdout",
     "output_type": "stream",
     "text": [
      "(29.99671173095703, 63.748023986816406)\n"
     ]
    }
   ],
   "source": [
    "# NON-EDITABLE CODE CELL FOR TESTING YOUR SOLUTION\n",
    "\n",
    "# Check the first coordinate pair. Shoud be: (29.99671173095703, 63.748023986816406)\n",
    "print(coordinate_pairs[0])"
   ]
  },
  {
   "cell_type": "code",
   "execution_count": 8,
   "metadata": {
    "deletable": false,
    "editable": false
   },
   "outputs": [
    {
     "name": "stdout",
     "output_type": "stream",
     "text": [
      "Polygon\n"
     ]
    }
   ],
   "source": [
    "# NON-EDITABLE CODE CELL FOR TESTING YOUR SOLUTION\n",
    "\n",
    "# Check the data type of your polygon:\n",
    "print(polygon.geom_type)"
   ]
  },
  {
   "cell_type": "markdown",
   "metadata": {
    "deletable": false,
    "editable": false,
    "tags": []
   },
   "source": [
    "### b) Insert the polygon into a newly created `geopandas.GeoDataFrame` called `geo`\n",
    "\n",
    "(see the hints for this exercise for more different approaches to complete this task)\n",
    "\n",
    "Be sure to define a coordinate reference system for the data (the coordinates are in WGS84 format)"
   ]
  },
  {
   "cell_type": "code",
   "execution_count": 11,
   "metadata": {},
   "outputs": [],
   "source": [
    "# ADD YOUR OWN CODE HERE\n",
    "#Creating empty geodataframe\n",
    "import geopandas as gpd\n",
    "geo = gpd.GeoDataFrame()\n",
    "\n",
    "#inserting the polygon in the geodataframe\n",
    "geo.loc[len(geo),[\"geometry\"]]=[polygon]\n",
    "geo.crs = \"EPSG:4326\"\n"
   ]
  },
  {
   "cell_type": "code",
   "execution_count": 12,
   "metadata": {
    "deletable": false,
    "editable": false
   },
   "outputs": [
    {
     "name": "stdout",
     "output_type": "stream",
     "text": [
      "                                            geometry\n",
      "0  POLYGON ((29.99671 63.74802, 31.58196 62.90790...\n"
     ]
    }
   ],
   "source": [
    "# NON-EDITABLE CODE CELL FOR TESTING YOUR SOLUTION\n",
    "\n",
    "# Check the content of the GeoDataFrame:\n",
    "print(geo.head())"
   ]
  },
  {
   "cell_type": "code",
   "execution_count": 13,
   "metadata": {
    "collapsed": false,
    "deletable": false,
    "editable": false,
    "jupyter": {
     "outputs_hidden": false
    }
   },
   "outputs": [
    {
     "name": "stdout",
     "output_type": "stream",
     "text": [
      "1\n"
     ]
    }
   ],
   "source": [
    "# NON-EDITABLE CODE CELL FOR TESTING YOUR SOLUTION\n",
    "\n",
    "# Check the number of rows:\n",
    "print(len(geo))"
   ]
  },
  {
   "cell_type": "markdown",
   "metadata": {
    "deletable": false,
    "editable": false,
    "tags": []
   },
   "source": [
    "### c) Plot the data set\n",
    "\n",
    "Which shape do you see? *Add a comment to the pull request to answer!*"
   ]
  },
  {
   "cell_type": "code",
   "execution_count": 14,
   "metadata": {
    "collapsed": false,
    "jupyter": {
     "outputs_hidden": false
    }
   },
   "outputs": [
    {
     "data": {
      "text/plain": [
       "<AxesSubplot:>"
      ]
     },
     "execution_count": 14,
     "metadata": {},
     "output_type": "execute_result"
    },
    {
     "data": {
      "image/png": "[encoded data removed]",
      "text/plain": [
       "<Figure size 432x288 with 1 Axes>"
      ]
     },
     "metadata": {
      "needs_background": "light"
     },
     "output_type": "display_data"
    }
   ],
   "source": [
    "# ADD YOUR OWN CODE HERE\n",
    "geo.plot()"
   ]
  },
  {
   "cell_type": "markdown",
   "metadata": {
    "deletable": false,
    "editable": false,
    "tags": []
   },
   "source": [
    "### d) Save the `GeoDataFrame` to a file\n",
    "\n",
    "Save the file in GeoPackage format, save it inside the `data` directory, and name it `mysterious-polygon.gpkg`."
   ]
  },
  {
   "cell_type": "code",
   "execution_count": 15,
   "metadata": {},
   "outputs": [],
   "source": [
    "# ADD YOUR OWN CODE HERE\n",
    "geo.to_file(r\"C:\\Users\\IP500\\Documents\\GitHub\\Automating-GIS-Processes\\Exercise 2\\mysterious-polygon.gpkg\")"
   ]
  },
  {
   "cell_type": "code",
   "execution_count": null,
   "metadata": {
    "collapsed": false,
    "deletable": false,
    "editable": false,
    "jupyter": {
     "outputs_hidden": false
    }
   },
   "outputs": [],
   "source": [
    "# NON-EDITABLE CODE CELL FOR TESTING YOUR SOLUTION\n",
    "\n",
    "# Check if output file exists\n",
    "import pathlib\n",
    "DATA_DIRECTORY = pathlib.Path().resolve() / \"data\"\n",
    "assert (DATA_DIRECTORY / \"mysterious-polygon.gpkg\").exists()"
   ]
  },
  {
   "cell_type": "markdown",
   "metadata": {
    "deletable": false,
    "editable": false
   },
   "source": [
    "\n",
    "\n",
    "---\n",
    "\n",
    "### Well done!\n",
    "\n",
    "You can continue with [Exercise-2 Problem 2](Exercise-2-problem-2.ipynb)"
   ]
  }
 ],
 "metadata": {
  "anaconda-cloud": {},
  "kernelspec": {
   "display_name": "Python 3 (ipykernel)",
   "language": "python",
   "name": "python3"
  },
  "language_info": {
   "codemirror_mode": {
    "name": "ipython",
    "version": 3
   },
   "file_extension": ".py",
   "mimetype": "text/x-python",
   "name": "python",
   "nbconvert_exporter": "python",
   "pygments_lexer": "ipython3",
   "version": "3.10.5"
  }
 },
 "nbformat": 4,
 "nbformat_minor": 4
}
